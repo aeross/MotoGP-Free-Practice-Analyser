{
 "cells": [
  {
   "cell_type": "code",
   "execution_count": 17,
   "metadata": {},
   "outputs": [],
   "source": [
    "import pandas as pd\n",
    "import os\n",
    "path = \"../Data/Curated\"\n",
    "gp_all = os.listdir(path)\n",
    "gp_all.remove('.gitkeep')"
   ]
  },
  {
   "attachments": {},
   "cell_type": "markdown",
   "metadata": {},
   "source": [
    "### Let's compare the first and last race from the data"
   ]
  },
  {
   "cell_type": "code",
   "execution_count": 18,
   "metadata": {},
   "outputs": [
    {
     "data": {
      "image/png": "[encoded data removed]",
      "text/plain": [
       "<Figure size 432x288 with 1 Axes>"
      ]
     },
     "metadata": {
      "needs_background": "light"
     },
     "output_type": "display_data"
    },
    {
     "name": "stdout",
     "output_type": "stream",
     "text": [
      "r^2: 0.9537932197672457\n"
     ]
    }
   ],
   "source": [
    "data = pd.read_csv(f\"{path}/{gp_all[0]}\")  # this is 2013 CoTA\n",
    "\n",
    "from sklearn.linear_model import LinearRegression\n",
    "from matplotlib import pyplot as plt\n",
    "\n",
    "X = data[[\"fp\"]]\n",
    "y = data[\"race\"]\n",
    "reg = LinearRegression().fit(X, y)\n",
    "plt.scatter(X, y, color='b')\n",
    "plt.title(gp_all[0])\n",
    "plt.xlabel(\"Free Practice\")\n",
    "plt.ylabel(\"Race\")\n",
    "plt.plot(X, reg.predict(X), color='k')\n",
    "plt.show()\n",
    "print(f'r^2: {reg.score(X, y)}')"
   ]
  },
  {
   "cell_type": "code",
   "execution_count": 20,
   "metadata": {},
   "outputs": [
    {
     "data": {
      "image/png": "[encoded data removed]",
      "text/plain": [
       "<Figure size 432x288 with 1 Axes>"
      ]
     },
     "metadata": {
      "needs_background": "light"
     },
     "output_type": "display_data"
    },
    {
     "name": "stdout",
     "output_type": "stream",
     "text": [
      "r^2: 0.41488754325259514\n"
     ]
    }
   ],
   "source": [
    "data = pd.read_csv(f\"{path}/{gp_all[-1]}\")  # this is 2022 Valencia\n",
    "\n",
    "X = data[[\"fp\"]]\n",
    "y = data[\"race\"]\n",
    "reg = LinearRegression().fit(X, y)\n",
    "plt.scatter(X, y, color='b')\n",
    "plt.title(all[-1])\n",
    "plt.xlabel(\"Free Practice\")\n",
    "plt.ylabel(\"Race\")\n",
    "plt.plot(X, reg.predict(X), color='k')\n",
    "plt.show()\n",
    "print(f'r^2: {reg.score(X, y)}')"
   ]
  },
  {
   "attachments": {},
   "cell_type": "markdown",
   "metadata": {},
   "source": [
    "It seems like there is a massive difference between free practice and race performance in 2022 compared to 2013. Let's see how they progress over the years."
   ]
  },
  {
   "cell_type": "code",
   "execution_count": 41,
   "metadata": {},
   "outputs": [
    {
     "data": {
      "text/html": [
       "<div>\n",
       "<style scoped>\n",
       "    .dataframe tbody tr th:only-of-type {\n",
       "        vertical-align: middle;\n",
       "    }\n",
       "\n",
       "    .dataframe tbody tr th {\n",
       "        vertical-align: top;\n",
       "    }\n",
       "\n",
       "    .dataframe thead th {\n",
       "        text-align: right;\n",
       "    }\n",
       "</style>\n",
       "<table border=\"1\" class=\"dataframe\">\n",
       "  <thead>\n",
       "    <tr style=\"text-align: right;\">\n",
       "      <th></th>\n",
       "      <th>year</th>\n",
       "      <th>rsquared</th>\n",
       "    </tr>\n",
       "  </thead>\n",
       "  <tbody>\n",
       "    <tr>\n",
       "      <th>0</th>\n",
       "      <td>2013</td>\n",
       "      <td>0.852231</td>\n",
       "    </tr>\n",
       "    <tr>\n",
       "      <th>1</th>\n",
       "      <td>2014</td>\n",
       "      <td>0.723085</td>\n",
       "    </tr>\n",
       "    <tr>\n",
       "      <th>2</th>\n",
       "      <td>2015</td>\n",
       "      <td>0.750914</td>\n",
       "    </tr>\n",
       "    <tr>\n",
       "      <th>3</th>\n",
       "      <td>2016</td>\n",
       "      <td>0.400408</td>\n",
       "    </tr>\n",
       "    <tr>\n",
       "      <th>4</th>\n",
       "      <td>2017</td>\n",
       "      <td>0.482021</td>\n",
       "    </tr>\n",
       "    <tr>\n",
       "      <th>5</th>\n",
       "      <td>2018</td>\n",
       "      <td>0.520160</td>\n",
       "    </tr>\n",
       "    <tr>\n",
       "      <th>6</th>\n",
       "      <td>2019</td>\n",
       "      <td>0.524745</td>\n",
       "    </tr>\n",
       "    <tr>\n",
       "      <th>7</th>\n",
       "      <td>2020</td>\n",
       "      <td>0.456584</td>\n",
       "    </tr>\n",
       "    <tr>\n",
       "      <th>8</th>\n",
       "      <td>2021</td>\n",
       "      <td>0.357497</td>\n",
       "    </tr>\n",
       "    <tr>\n",
       "      <th>9</th>\n",
       "      <td>2022</td>\n",
       "      <td>0.395439</td>\n",
       "    </tr>\n",
       "  </tbody>\n",
       "</table>\n",
       "</div>"
      ],
      "text/plain": [
       "   year  rsquared\n",
       "0  2013  0.852231\n",
       "1  2014  0.723085\n",
       "2  2015  0.750914\n",
       "3  2016  0.400408\n",
       "4  2017  0.482021\n",
       "5  2018  0.520160\n",
       "6  2019  0.524745\n",
       "7  2020  0.456584\n",
       "8  2021  0.357497\n",
       "9  2022  0.395439"
      ]
     },
     "execution_count": 41,
     "metadata": {},
     "output_type": "execute_result"
    }
   ],
   "source": [
    "YEAR_START = 2013\n",
    "YEAR_END = 2022\n",
    "\n",
    "years = list(range(YEAR_START, YEAR_END + 1))\n",
    "scores = [[] for i in range(len(years))]  # coefficient of determination of the linear regression for each year\n",
    "\n",
    "# find r^2 for every gp\n",
    "for gp in gp_all:\n",
    "    try:\n",
    "        data = pd.read_csv(f\"{path}/{gp}\")\n",
    "        year = int(gp[:4])\n",
    "        X = data[[\"fp\"]]\n",
    "        y = data[\"race\"]\n",
    "        reg = LinearRegression().fit(X, y)\n",
    "        scores[year - YEAR_START].append(reg.score(X, y))\n",
    "    except:\n",
    "        # seems like some of the csv data failed to be produced, so we'll ignore them here\n",
    "        # (no biggie, there's only 2 of em out of 160ish)\n",
    "        pass\n",
    "\n",
    "# find mean r^2 for every year\n",
    "import statistics as stats\n",
    "scores = [stats.mean(scores[i]) for i in range(len(years))]\n",
    "data = pd.DataFrame(data={\"year\": years, \"rsquared\": scores})\n",
    "data"
   ]
  },
  {
   "cell_type": "code",
   "execution_count": 46,
   "metadata": {},
   "outputs": [
    {
     "data": {
      "image/png": "[encoded data removed]",
      "text/plain": [
       "<Figure size 432x288 with 1 Axes>"
      ]
     },
     "metadata": {
      "needs_background": "light"
     },
     "output_type": "display_data"
    },
    {
     "name": "stdout",
     "output_type": "stream",
     "text": [
      "r^2: 0.69727297286625\n"
     ]
    }
   ],
   "source": [
    "X = data[[\"year\"]]\n",
    "y = data[\"rsquared\"]\n",
    "reg = LinearRegression().fit(X, y)\n",
    "plt.scatter(X, y, color='b')\n",
    "plt.title(\"Correlation between FP4s and races for each year\")\n",
    "plt.xlabel(\"Year\")\n",
    "plt.ylabel(\"R squared\")\n",
    "plt.plot(X, reg.predict(X), color='k')\n",
    "plt.show()\n",
    "print(f'r^2: {reg.score(X, y)}')"
   ]
  }
 ],
 "metadata": {
  "kernelspec": {
   "display_name": "Python 3",
   "language": "python",
   "name": "python3"
  },
  "language_info": {
   "codemirror_mode": {
    "name": "ipython",
    "version": 3
   },
   "file_extension": ".py",
   "mimetype": "text/x-python",
   "name": "python",
   "nbconvert_exporter": "python",
   "pygments_lexer": "ipython3",
   "version": "3.8.10"
  },
  "orig_nbformat": 4,
  "vscode": {
   "interpreter": {
    "hash": "916dbcbb3f70747c44a77c7bcd40155683ae19c65e1c03b4aa3499c5328201f1"
   }
  }
 },
 "nbformat": 4,
 "nbformat_minor": 2
}
